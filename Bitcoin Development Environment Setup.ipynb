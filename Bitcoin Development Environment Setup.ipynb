{
 "cells": [
  {
   "cell_type": "markdown",
   "id": "ca83079e-ef27-45e3-a224-7ebd0b723351",
   "metadata": {},
   "source": [
    "# Bitcoin Development Environment Setup"
   ]
  },
  {
   "cell_type": "code",
   "execution_count": null,
   "id": "32ee11b5-035b-4142-a385-bdc361e69a5c",
   "metadata": {},
   "outputs": [],
   "source": [
    "#this notebook serves as a guide to setting up the environment rather than running it through this notebook"
   ]
  },
  {
   "cell_type": "markdown",
   "id": "0f601aa0-bff1-40fc-a8bc-d4889f0d736f",
   "metadata": {},
   "source": [
    "## Compiling Bitcoin Core from the Source Code"
   ]
  },
  {
   "cell_type": "code",
   "execution_count": null,
   "id": "95bf36b9-ee63-4d50-8b17-c0baa29f574e",
   "metadata": {
    "tags": []
   },
   "outputs": [],
   "source": [
    "%%bash\n",
    "#creating a local copy of the source code\n",
    "git clone https://github.com/bitcoin/bitcoin.git"
   ]
  },
  {
   "cell_type": "markdown",
   "id": "50b68b7f-9205-4f80-a0d2-c622c7233571",
   "metadata": {},
   "source": [
    "## Selecting Bitcoin Core Release"
   ]
  },
  {
   "cell_type": "code",
   "execution_count": null,
   "id": "d425cfee-e6c2-4d03-9a5b-2cf7321cb061",
   "metadata": {},
   "outputs": [],
   "source": [
    "%%bash\n",
    "cd bitcoin\n",
    "#all versions of bitcoin \n",
    "git tag \n",
    "#synchronizing the local code with * version \n",
    "git checkout\n",
    "#confirmation of the desired version \n",
    "git status"
   ]
  },
  {
   "cell_type": "markdown",
   "id": "49cb8ae1-af57-4948-a599-69782780604c",
   "metadata": {},
   "source": [
    "## Configuring the Bitcoin Build "
   ]
  },
  {
   "cell_type": "code",
   "execution_count": null,
   "id": "e65a1c99-614a-4c23-9d63-56e609bda397",
   "metadata": {},
   "outputs": [],
   "source": [
    "%%bash\n",
    "#the main documentation located in README.md in the bitcoin directory\n",
    "more README.md\n",
    "# instructions for compiling the bitcoind command line client\n",
    "more doc/build-unix.md\n",
    "#after having the needed libraries installed,starting to build process by generating a set of build scripts\n",
    "./autogen.sh\n",
    "#offers a number of diff options to cutomize the build process\n",
    "./configure --help\n",
    "#running the configure script to automatically discover the necessary libraries\n",
    "./configure"
   ]
  },
  {
   "cell_type": "markdown",
   "id": "c9c168de-114a-4bc8-a6c3-d15f1cd23da7",
   "metadata": {},
   "source": [
    "## Building the Bitcoin Core Executables"
   ]
  },
  {
   "cell_type": "code",
   "execution_count": null,
   "id": "5bf16872-b8e5-4d50-aca6-d0f73f00f8ef",
   "metadata": {},
   "outputs": [],
   "source": [
    "%%bash\n",
    "#if something goes wrong just try\n",
    "make"
   ]
  },
  {
   "cell_type": "markdown",
   "id": "67723de0-a71f-4d76-87d8-f4a9ea68b17a",
   "metadata": {},
   "source": [
    "## Running and Configuring the Bitcoin Core Node"
   ]
  },
  {
   "cell_type": "code",
   "execution_count": null,
   "id": "f115a5f9-e1d1-43d6-b88f-deaafd1911a6",
   "metadata": {},
   "outputs": [],
   "source": [
    "%%bash\n",
    "#locate the configuration file\n",
    "bitcoind -printtoconsole\n",
    "# configurtion options\n",
    "bitcoind --help\n",
    "# most important options\n",
    "alertnotify\n",
    "conf\n",
    "datadir\n",
    "prune\n",
    "txindex\n",
    "dbcache\n",
    "maxconnections\n",
    "maxmempool\n",
    "maxreceivebuffer/maxsendbuffer\n",
    "minrelaytxfee\n",
    "#after the edited configuration,run bitcoincore\n",
    "bitcoind -printtoconsole\n",
    "#running bitcoincore in the background as a process\n",
    "bitcoind -daemon\n",
    "#to monitor the progress and runtime status of the bitcoinnode\n",
    "bitcoin-cli getblockchaininfo"
   ]
  }
 ],
 "metadata": {
  "kernelspec": {
   "display_name": "Python 3",
   "language": "python",
   "name": "python3"
  },
  "language_info": {
   "codemirror_mode": {
    "name": "ipython",
    "version": 3
   },
   "file_extension": ".py",
   "mimetype": "text/x-python",
   "name": "python",
   "nbconvert_exporter": "python",
   "pygments_lexer": "ipython3",
   "version": "3.8.8"
  }
 },
 "nbformat": 4,
 "nbformat_minor": 5
}
