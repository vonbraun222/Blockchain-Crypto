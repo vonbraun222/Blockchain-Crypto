{
 "cells": [
  {
   "cell_type": "markdown",
   "id": "6983d94a-d892-4eb5-87e4-b3923fdd9334",
   "metadata": {},
   "source": [
    "# Programming Blockchain"
   ]
  },
  {
   "cell_type": "code",
   "execution_count": null,
   "id": "e9c9d8e3-11e0-4fb6-9856-03a3cfc3a7eb",
   "metadata": {},
   "outputs": [],
   "source": [
    "#coding along Andreas M. Antonopoulos's Mastering Bitcoin"
   ]
  },
  {
   "cell_type": "code",
   "execution_count": null,
   "id": "981c097f-694a-4273-bb4b-f5bb3b346355",
   "metadata": {},
   "outputs": [],
   "source": []
  }
 ],
 "metadata": {
  "kernelspec": {
   "display_name": "Python 3",
   "language": "python",
   "name": "python3"
  },
  "language_info": {
   "codemirror_mode": {
    "name": "ipython",
    "version": 3
   },
   "file_extension": ".py",
   "mimetype": "text/x-python",
   "name": "python",
   "nbconvert_exporter": "python",
   "pygments_lexer": "ipython3",
   "version": "3.8.8"
  }
 },
 "nbformat": 4,
 "nbformat_minor": 5
}
